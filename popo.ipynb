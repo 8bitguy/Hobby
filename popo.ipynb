{
 "cells": [
  {
   "cell_type": "code",
   "execution_count": 9,
   "metadata": {},
   "outputs": [
    {
     "name": "stdout",
     "output_type": "stream",
     "text": [
      "string involved\n",
      "bigger\n"
     ]
    }
   ],
   "source": [
    "varA = \"a\"\n",
    "varB = \"A\"\n",
    "\n",
    "if type(varA) is str and type(varB) is str:\n",
    "    print(\"string involved\")\n",
    "    \n",
    "if (varA) > (varB):\n",
    "    print(\"bigger\")"
   ]
  },
  {
   "cell_type": "code",
   "execution_count": null,
   "metadata": {
    "collapsed": true
   },
   "outputs": [],
   "source": [
    "happy = 4\n",
    "if happy>2:\n",
    "    print \"hello world\""
   ]
  }
 ],
 "metadata": {
  "kernelspec": {
   "display_name": "Python 3",
   "language": "python",
   "name": "python3"
  },
  "language_info": {
   "codemirror_mode": {
    "name": "ipython",
    "version": 3
   },
   "file_extension": ".py",
   "mimetype": "text/x-python",
   "name": "python",
   "nbconvert_exporter": "python",
   "pygments_lexer": "ipython3",
   "version": "3.6.1"
  }
 },
 "nbformat": 4,
 "nbformat_minor": 2
}
