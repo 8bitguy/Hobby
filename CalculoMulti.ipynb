{
 "cells": [
  {
   "cell_type": "markdown",
   "metadata": {},
   "source": [
    "## Cálculo Multivariable"
   ]
  },
  {
   "cell_type": "code",
   "execution_count": 11,
   "metadata": {},
   "outputs": [
    {
     "name": "stdout",
     "output_type": "stream",
     "text": [
      "Derivadas parciales cruzadas:  exp(x) + cos(y) exp(x)\n",
      "V(x,y):  x*sin(y) + y*exp(x) + h(x)  =  y*exp(x) + sin(y) + g(x)\n"
     ]
    }
   ],
   "source": [
    "# Determinación de una función potencial en campos vectoriales conservativos\n",
    "\n",
    "from sympy import *\n",
    "x = Symbol('x')\n",
    "y = Symbol('y')\n",
    "\n",
    "f1 = y * exp(x) + sin(y)\n",
    "f2 =  exp(x) + cos(y)\n",
    "\n",
    "print(\"Derivadas parciales cruzadas: \", diff(f1,y,1), diff(f2, x, 1))\n",
    "print(\"V(x,y): \", integrate(f1, x), \"+ h(x)\", \" = \", integrate(f2, y), \"+ g(x)\")\n",
    "##Nota: aún se tiene que buscar la h(x) o g(x) o p(x) que ajusten las ecuaciones\n",
    "##Optimización: generar una solución de V(x,y,z)"
   ]
  },
  {
   "cell_type": "code",
   "execution_count": 109,
   "metadata": {},
   "outputs": [
    {
     "data": {
      "text/plain": [
       "pi/2"
      ]
     },
     "execution_count": 109,
     "metadata": {},
     "output_type": "execute_result"
    }
   ],
   "source": [
    "## Teorema de Green\n",
    "##Funciona con regiones simples, tal vez limitado\n",
    "\n",
    "from sympy import *\n",
    "x = Symbol('x')\n",
    "y = Symbol('y')\n",
    "\n",
    "#int F1dx + F2dy = int.int (deriv f2/deriv x - deriv f1/deriv y) dA\n",
    "f1 = exp(-x) + y**2\n",
    "f2 =  exp(-y) + x**2\n",
    "\n",
    "a, b = 0, cos(x)\n",
    "c, d = pi/2, -pi/2\n",
    "\n",
    "green = (diff(f2, x,1), diff(f1, y,1))\n",
    "intx = integrate(green[0] - green[1], (y, a, b))\n",
    "inty = integrate(intx, (x, c,d))\n",
    "inty\n",
    "\n",
    "#Optimización: generar una solución para coordenadas polares"
   ]
  },
  {
   "cell_type": "code",
   "execution_count": 110,
   "metadata": {},
   "outputs": [
    {
     "name": "stdout",
     "output_type": "stream",
     "text": [
      "C1: 3*pi  C2: 0\n",
      "Area de región D:  3*pi\n"
     ]
    }
   ],
   "source": [
    "## Teorema de Green para Área de la región D \n",
    "##Muy simple, tal vez no funciones con problemas más elaborados\n",
    "from sympy import *\n",
    "x = Symbol('x')\n",
    "y = Symbol('y')\n",
    "t = Symbol('t')\n",
    "\n",
    "# A = into x*dy = -into ydx = 1/2 into xdy - ydx\n",
    "\n",
    "#parámetro C1\n",
    "xc1 = t - sin(t)\n",
    "yc1 = 1 - cos(t)\n",
    "\n",
    "a, b = 2*pi, 0 #en t\n",
    "\n",
    "dx = diff(xc1,t)\n",
    "c1 = yc1*dx\n",
    "c1 = -integrate(c1,(t,  a, b))\n",
    "\n",
    "#parámetro C2\n",
    "xc2 = 2*pi - t\n",
    "yc2 = 0\n",
    "\n",
    "c, d = 2*pi, 0 #en t\n",
    "\n",
    "dx = diff(xc2,t)\n",
    "c2 = yc2*dx\n",
    "c2 = -integrate(c2,(t,  c, d))\n",
    "\n",
    "print(\"C1:\", c1, \" C2:\", c2)\n",
    "Area= c1 + c2\n",
    "print(\"Area de región D: \", Area)\n",
    "\n",
    "#Optimización: generar una solución para coordenadas polares"
   ]
  },
  {
   "cell_type": "code",
   "execution_count": null,
   "metadata": {
    "collapsed": true
   },
   "outputs": [],
   "source": []
  }
 ],
 "metadata": {
  "kernelspec": {
   "display_name": "Python 3",
   "language": "python",
   "name": "python3"
  },
  "language_info": {
   "codemirror_mode": {
    "name": "ipython",
    "version": 3
   },
   "file_extension": ".py",
   "mimetype": "text/x-python",
   "name": "python",
   "nbconvert_exporter": "python",
   "pygments_lexer": "ipython3",
   "version": "3.6.1"
  }
 },
 "nbformat": 4,
 "nbformat_minor": 2
}
