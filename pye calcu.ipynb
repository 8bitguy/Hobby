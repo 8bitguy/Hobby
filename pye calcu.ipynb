{
 "cells": [
  {
   "cell_type": "code",
   "execution_count": 279,
   "metadata": {},
   "outputs": [
    {
     "name": "stdout",
     "output_type": "stream",
     "text": [
      "93.8265439119 ≤ μ < 94.8134560881\n"
     ]
    }
   ],
   "source": [
    "#Trust intervals for Z & t for the population mean (2-sided)\n",
    "\n",
    "from scipy.stats import norm, t\n",
    "import math\n",
    "import numpy as np\n",
    "\n",
    "\n",
    "n = 16\n",
    "x = 94.32\n",
    "desvest = 1.2\n",
    "trust = .99\n",
    "alpha = .1\n",
    "alpha2 = alpha/2\n",
    "df = n-1 #degrees freedom\n",
    "\n",
    "intervalo = [[],[]]\n",
    "z = np.array(z)\n",
    "ts = np.array(t)\n",
    "\n",
    "if n < 30: ## if n is greater than 30, n-dist \n",
    "    for i in range (2):\n",
    "        z = [norm.ppf(alpha2), norm.ppf(1-alpha2)]\n",
    "        intervalo[i] = x + (z[i] * (desvest/(math.sqrt(n))) )\n",
    "        \n",
    "elif n > 30: ## if n is not greater than 30, t-dist \n",
    "    for i in range (2):\n",
    "        ts = [t.ppf(alpha2, df), t.ppf((1-alpha2), df)]\n",
    "        intervalo[i] = x + (ts[i] * (desvest/(math.sqrt(n))) )                     \n",
    "                                \n",
    "print (intervalo[0],\"\\u2264\", \"\\u03BC\",\"<\", intervalo[1])"
   ]
  },
  {
   "cell_type": "code",
   "execution_count": 251,
   "metadata": {},
   "outputs": [
    {
     "name": "stdout",
     "output_type": "stream",
     "text": [
      "Ζμ: -2.2666666666666897\n",
      "Ζα: -1.95996398454 \n",
      "\n",
      "Hay evidencia de que la Ha se cumple. μ = -2.2666666666666897 < -1.95996398454\n",
      "Ζμ < Ζα\n",
      "P-value two sided=  0.0234105961611\n",
      "P-value less than=  0.0117052980806\n",
      "P-value greater than=  0.988294701919\n"
     ]
    }
   ],
   "source": [
    "## Hypothesis test (2 sided)\n",
    "\n",
    "from scipy.stats import norm, t\n",
    "import math\n",
    "import numpy as np\n",
    "\n",
    "miu = 95\n",
    "\n",
    "x = 94.32\n",
    "n = 16\n",
    "desvest = 1.2\n",
    "\n",
    "trust = 0\n",
    "alpha = 0.05\n",
    "alpha2 = alpha/2 # two sided test\n",
    "df = n-1 #degrees freedom for ts\n",
    "\n",
    "## calculating z values\n",
    "z_miu = (x - miu) / (desvest / (math.sqrt(n)))\n",
    "z_alpha2 = norm.ppf(alpha2)\n",
    "print(\"\\u0396\\u03BC:\", z_miu)\n",
    "print(\"\\u0396\\u03B1:\", z_alpha2, \"\\n\")\n",
    "\n",
    "if z_miu > z_alpha2:\n",
    "    print (\"Hay evidencia de que la Ha se cumple. \\u03BC =\",z_miu,\">\", z_alpha2)\n",
    "    print(\"\\u0396\\u03BC > \\u0396\\u03B1\")\n",
    "elif z_miu < z_alpha2:\n",
    "    print(\"Hay evidencia de que la Ha se cumple. \\u03BC =\",z_miu,\"<\", z_alpha2)\n",
    "    print(\"\\u0396\\u03BC < \\u0396\\u03B1\")\n",
    "else:\n",
    "    print (\"No hay evidencia de que la Ha se cumple. \\u03BC =\",z_miu,\"es igual a\", z_alpha2)\n",
    "    print(\"\\u0396\\u03BC == \\u0396\\u03B1\\n\")\n",
    "    \n",
    "p_value_two = norm.cdf(z_miu) * 2 #two sided test\n",
    "p_value_less = norm.cdf(z_miu)  #less than sided test\n",
    "p_value_greater = 1 - norm.cdf(z_miu) #greater than sided test\n",
    "print(\"P-value two sided= \", p_value_two)\n",
    "print(\"P-value less than= \", p_value_less)\n",
    "print(\"P-value greater than= \", p_value_greater)\n"
   ]
  },
  {
   "cell_type": "code",
   "execution_count": 280,
   "metadata": {},
   "outputs": [
    {
     "name": "stdout",
     "output_type": "stream",
     "text": [
      "0.303687233528 ≤ μ < 0.496312766472\n"
     ]
    }
   ],
   "source": [
    "#Trust intervals for the proportion\n",
    "\n",
    "from scipy.stats import norm, t\n",
    "import math\n",
    "import numpy as np\n",
    "\n",
    "\n",
    "n = 70\n",
    "p = 28/n\n",
    "trust = .90\n",
    "alpha = 1-trust\n",
    "alpha2 = alpha/2\n",
    "df = n-1 #degrees freedom\n",
    "\n",
    "intervalo = [[],[]]\n",
    "z = np.array(z)\n",
    "\n",
    "for i in range (2):\n",
    "    z = [norm.ppf(alpha2), norm.ppf(1-alpha2)]\n",
    "    intervalo[i] = p + (z[i] * (math.sqrt( p*(1-p) / n ))   )                 \n",
    "                                \n",
    "print (intervalo[0],\"\\u2264\", \"\\u03BC\",\"<\", intervalo[1])"
   ]
  },
  {
   "cell_type": "code",
   "execution_count": 268,
   "metadata": {},
   "outputs": [
    {
     "data": {
      "text/plain": [
       "18.712382417452051"
      ]
     },
     "execution_count": 268,
     "metadata": {},
     "output_type": "execute_result"
    }
   ],
   "source": [
    "## tamaño de musetra de media poblacional\n",
    "x = (norm.ppf(0.05/2) + norm.ppf(.05))**2 * (1.2**2)\n",
    "x / (96-95)**2"
   ]
  },
  {
   "cell_type": "code",
   "execution_count": 282,
   "metadata": {},
   "outputs": [
    {
     "name": "stdout",
     "output_type": "stream",
     "text": [
      "Ζμ: 2.095278256514451\n",
      "Ζα: 1.64485362695 \n",
      "\n",
      "Hay evidencia de que la Ha se cumple. μ = 2.095278256514451 > 1.64485362695\n",
      "Ζμ > Ζα\n",
      "P-value two sided=  1.96385373581\n",
      "P-value less than=  0.981926867907\n",
      "P-value greater than=  0.0180731320934\n"
     ]
    }
   ],
   "source": [
    "## Hypothesis test (1 sided)\n",
    "\n",
    "## falta optimizar\n",
    "\n",
    "from scipy.stats import norm, t\n",
    "import math\n",
    "import numpy as np\n",
    "\n",
    "miu = 50\n",
    "\n",
    "x = 51.7\n",
    "n = 35\n",
    "desvest = 4.8\n",
    "\n",
    "trust = 0\n",
    "alpha = 0.95\n",
    "alpha2 = alpha # two sided test\n",
    "df = n-1 #degrees freedom for ts\n",
    "\n",
    "## calculating z values\n",
    "z_miu = (x - miu) / (desvest / (math.sqrt(n)))\n",
    "z_alpha2 = norm.ppf(alpha2)\n",
    "print(\"\\u0396\\u03BC:\", z_miu)\n",
    "print(\"\\u0396\\u03B1:\", z_alpha2, \"\\n\")\n",
    "\n",
    "if z_miu > z_alpha2:\n",
    "    print (\"Hay evidencia de que la Ha se cumple. \\u03BC =\",z_miu,\">\", z_alpha2)\n",
    "    print(\"\\u0396\\u03BC > \\u0396\\u03B1\")\n",
    "elif z_miu < z_alpha2:\n",
    "    print(\"Hay evidencia de que la Ha se cumple. \\u03BC =\",z_miu,\"<\", z_alpha2)\n",
    "    print(\"\\u0396\\u03BC < \\u0396\\u03B1\")\n",
    "else:\n",
    "    print (\"No hay evidencia de que la Ha se cumple. \\u03BC =\",z_miu,\"es igual a\", z_alpha2)\n",
    "    print(\"\\u0396\\u03BC == \\u0396\\u03B1\\n\")\n",
    "    \n",
    "p_value_two = norm.cdf(z_miu) * 2 #two sided test\n",
    "p_value_less = norm.cdf(z_miu)  #less than sided test\n",
    "p_value_greater = 1 - norm.cdf(z_miu) #greater than sided test\n",
    "print(\"P-value two sided= \", p_value_two)\n",
    "print(\"P-value less than= \", p_value_less)\n",
    "print(\"P-value greater than= \", p_value_greater)\n"
   ]
  },
  {
   "cell_type": "code",
   "execution_count": null,
   "metadata": {
    "collapsed": true
   },
   "outputs": [],
   "source": []
  }
 ],
 "metadata": {
  "kernelspec": {
   "display_name": "Python 3",
   "language": "python",
   "name": "python3"
  },
  "language_info": {
   "codemirror_mode": {
    "name": "ipython",
    "version": 3
   },
   "file_extension": ".py",
   "mimetype": "text/x-python",
   "name": "python",
   "nbconvert_exporter": "python",
   "pygments_lexer": "ipython3",
   "version": "3.6.1"
  }
 },
 "nbformat": 4,
 "nbformat_minor": 2
}
