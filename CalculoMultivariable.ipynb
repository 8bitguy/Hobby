{
 "cells": [
  {
   "cell_type": "markdown",
   "metadata": {},
   "source": [
    "## Cálculo Multivariable"
   ]
  },
  {
   "cell_type": "code",
   "execution_count": 44,
   "metadata": {},
   "outputs": [
    {
     "name": "stdout",
     "output_type": "stream",
     "text": [
      "IPython console for SymPy 1.0 (Python 3.6.1-64-bit) (ground types: python)\n",
      "\n",
      "These commands were executed:\n",
      ">>> from __future__ import division\n",
      ">>> from sympy import *\n",
      ">>> x, y, z, t = symbols('x y z t')\n",
      ">>> k, m, n = symbols('k m n', integer=True)\n",
      ">>> f, g, h = symbols('f g h', cls=Function)\n",
      ">>> init_printing()\n",
      "\n",
      "Documentation can be found at http://docs.sympy.org/1.0/\n"
     ]
    }
   ],
   "source": [
    "from sympy import init_session\n",
    "from sympy import *  \n",
    "\n",
    "use_unicode=False\n",
    "init_session()"
   ]
  },
  {
   "cell_type": "markdown",
   "metadata": {},
   "source": [
    "## DERIVADOR SIMPLE"
   ]
  },
  {
   "cell_type": "code",
   "execution_count": 53,
   "metadata": {},
   "outputs": [
    {
     "data": {
      "image/png": "[encoded data removed]",
      "text/latex": [
       "$$- \\frac{x}{\\sqrt{a^{2} - x^{2} - y^{2}}}$$"
      ],
      "text/plain": [
       "       -x        \n",
       "─────────────────\n",
       "   ______________\n",
       "  ╱  2    2    2 \n",
       "╲╱  a  - x  - y  "
      ]
     },
     "metadata": {},
     "output_type": "display_data"
    },
    {
     "data": {
      "image/png": "[encoded data removed]",
      "text/latex": [
       "$$- \\frac{y}{\\sqrt{a^{2} - x^{2} - y^{2}}}$$"
      ],
      "text/plain": [
       "       -y        \n",
       "─────────────────\n",
       "   ______________\n",
       "  ╱  2    2    2 \n",
       "╲╱  a  - x  - y  "
      ]
     },
     "metadata": {},
     "output_type": "display_data"
    }
   ],
   "source": [
    "##Funciona con regiones simples, tal vez limitado \n",
    "from sympy import *\n",
    "\n",
    "x = Symbol('x')\n",
    "y = Symbol('y')\n",
    "a = Symbol(\"a\")\n",
    "\n",
    "#int F1dx + F2dy = int.int (deriv f2/deriv x - deriv f1/deriv y) dA\n",
    "f1 = sqrt(a**2 - x**2- y**2)\n",
    "\n",
    "derx = diff(f1, x)\n",
    "dery = diff(f1, y)\n",
    "derx, dery\n",
    "display(derx, dery)"
   ]
  },
  {
   "cell_type": "markdown",
   "metadata": {},
   "source": [
    "## INTEGRADOR"
   ]
  },
  {
   "cell_type": "code",
   "execution_count": 51,
   "metadata": {},
   "outputs": [
    {
     "data": {
      "image/png": "[encoded data removed]",
      "text/latex": [
       "$$- \\pi$$"
      ],
      "text/plain": [
       "-π"
      ]
     },
     "metadata": {},
     "output_type": "display_data"
    }
   ],
   "source": [
    "\n",
    "##Funciona con regiones simples, tal vez limitado\n",
    "\n",
    "from sympy import *\n",
    "x = Symbol('x')\n",
    "y = Symbol('y')\n",
    "\n",
    "#int F1dx + F2dy = int.int (deriv f2/deriv x - deriv f1/deriv y) dA\n",
    "f1 = -y\n",
    "\n",
    "a, b = 0, 1\n",
    "c, d = 0, 2*pi\n",
    "\n",
    "inty = integrate(f1, (y, a,b))\n",
    "intx = integrate(inty, (x, c,d))\n",
    "display(intx)\n"
   ]
  },
  {
   "cell_type": "markdown",
   "metadata": {},
   "source": [
    "### Determinación de una función potencial en campos vectoriales conservativos"
   ]
  },
  {
   "cell_type": "code",
   "execution_count": 45,
   "metadata": {},
   "outputs": [
    {
     "data": {
      "text/plain": [
       "'V(x,y): '"
      ]
     },
     "metadata": {},
     "output_type": "display_data"
    },
    {
     "data": {
      "image/png": "[encoded data removed]",
      "text/latex": [
       "$$x^{2} y + x \\left(2 y^{2} - 5 y\\right)$$"
      ],
      "text/plain": [
       " 2       ⎛   2      ⎞\n",
       "x ⋅y + x⋅⎝2⋅y  - 5⋅y⎠"
      ]
     },
     "metadata": {},
     "output_type": "display_data"
    },
    {
     "data": {
      "text/plain": [
       "'h(x)='"
      ]
     },
     "metadata": {},
     "output_type": "display_data"
    },
    {
     "data": {
      "image/png": "[encoded data removed]",
      "text/latex": [
       "$$2 x y^{2} - 3 x y$$"
      ],
      "text/plain": [
       "     2        \n",
       "2⋅x⋅y  - 3⋅x⋅y"
      ]
     },
     "metadata": {},
     "output_type": "display_data"
    },
    {
     "data": {
      "text/plain": [
       "'+ g(x)'"
      ]
     },
     "metadata": {},
     "output_type": "display_data"
    }
   ],
   "source": [
    "# Determinación de una función potencial en campos vectoriales conservativos\n",
    "\n",
    "from sympy import *\n",
    "x = Symbol('x')\n",
    "y = Symbol('y')\n",
    "\n",
    "f1 = 2*x*y - 5*y + 2*y**2\n",
    "f2 =  x*2 - 5*x + 4*x*y\n",
    "\n",
    "#print(\"Derivadas parciales cruzadas: \", diff(f1,y,1), diff(f2, x, 1))\n",
    "display(\"V(x,y): \", integrate(f1, x), \"h(x)=\", integrate(f2, y), \"+ g(x)\")\n",
    "##Nota: aún se tiene que buscar la h(x) o g(x) o p(x) que ajusten las ecuaciones\n",
    "##Optimización: generar una solución de V(x,y,z)"
   ]
  },
  {
   "cell_type": "markdown",
   "metadata": {},
   "source": [
    "## Teorema de Green"
   ]
  },
  {
   "cell_type": "code",
   "execution_count": 46,
   "metadata": {},
   "outputs": [
    {
     "data": {
      "image/png": "[encoded data removed]",
      "text/latex": [
       "$$\\frac{32}{15}$$"
      ],
      "text/plain": [
       "32\n",
       "──\n",
       "15"
      ]
     },
     "metadata": {},
     "output_type": "display_data"
    }
   ],
   "source": [
    "\n",
    "##Funciona con regiones simples, tal vez limitado\n",
    "\n",
    "from sympy import *\n",
    "x = Symbol('x')\n",
    "y = Symbol('y')\n",
    "\n",
    "#int F1dx + F2dy = int.int (deriv f2/deriv x - deriv f1/deriv y) dA\n",
    "f1 = x**2*y\n",
    "f2 = y**2*x\n",
    "\n",
    "a, b = (x**3)/4, 2\n",
    "c, d = 0, 2\n",
    "\n",
    "green = (diff(f2, x,1), diff(f1, y,1))\n",
    "#print(\"derivadas f2, f1\", green)\n",
    "intx = integrate(green[0] - green[1], (y, a, b))\n",
    "#print(intx)\n",
    "inty = integrate(intx, (x, c,d))\n",
    "#print(inty)\n",
    "display(inty)\n",
    "\n",
    "#Optimización: generar una solución para coordenadas polares"
   ]
  },
  {
   "cell_type": "markdown",
   "metadata": {},
   "source": [
    "## Teorema de Green para Área de la región D "
   ]
  },
  {
   "cell_type": "code",
   "execution_count": 47,
   "metadata": {},
   "outputs": [
    {
     "data": {
      "text/plain": [
       "'C1:'"
      ]
     },
     "metadata": {},
     "output_type": "display_data"
    },
    {
     "data": {
      "image/png": "[encoded data removed]",
      "text/latex": [
       "$$3 \\pi$$"
      ],
      "text/plain": [
       "3⋅π"
      ]
     },
     "metadata": {},
     "output_type": "display_data"
    },
    {
     "data": {
      "text/plain": [
       "'C2:'"
      ]
     },
     "metadata": {},
     "output_type": "display_data"
    },
    {
     "data": {
      "image/png": "[encoded data removed]",
      "text/latex": [
       "$$0$$"
      ],
      "text/plain": [
       "0"
      ]
     },
     "metadata": {},
     "output_type": "display_data"
    },
    {
     "data": {
      "text/plain": [
       "'Area de región D: '"
      ]
     },
     "metadata": {},
     "output_type": "display_data"
    },
    {
     "data": {
      "image/png": "[encoded data removed]",
      "text/latex": [
       "$$3 \\pi$$"
      ],
      "text/plain": [
       "3⋅π"
      ]
     },
     "metadata": {},
     "output_type": "display_data"
    }
   ],
   "source": [
    "\n",
    "##Muy simple, tal vez no funciones con problemas más elaborados\n",
    "from sympy import *\n",
    "x = Symbol('x')\n",
    "y = Symbol('y')\n",
    "t = Symbol('t')\n",
    "\n",
    "# A = into x*dy = -into ydx = 1/2 into xdy - ydx\n",
    "\n",
    "#parámetro C1\n",
    "xc1 = t - sin(t)\n",
    "yc1 = 1 - cos(t)\n",
    "\n",
    "a, b = 2*pi, 0 #en t\n",
    "\n",
    "dx = diff(xc1,t)\n",
    "c1 = yc1*dx\n",
    "c1 = -integrate(c1,(t,  a, b))\n",
    "\n",
    "#parámetro C2\n",
    "xc2 = 2*pi - t\n",
    "yc2 = 0\n",
    "\n",
    "c, d = 2*pi, 0 #en t\n",
    "\n",
    "dx = diff(xc2,t)\n",
    "c2 = yc2*dx\n",
    "c2 = -integrate(c2,(t,  c, d))\n",
    "\n",
    "display(\"C1:\", c1, \"C2:\", c2)\n",
    "Area= c1 + c2\n",
    "display(\"Area de región D: \", Area)\n",
    "\n",
    "#Optimización: generar una solución para coordenadas polares"
   ]
  },
  {
   "cell_type": "markdown",
   "metadata": {},
   "source": [
    "## ROTACIÓN Y DIVERGENCIA"
   ]
  },
  {
   "cell_type": "code",
   "execution_count": 48,
   "metadata": {},
   "outputs": [
    {
     "data": {
      "image/png": "[encoded data removed]",
      "text/latex": [
       "$$\\left ( 0, \\quad 0, \\quad 6\\right )$$"
      ],
      "text/plain": [
       "(0, 0, 6)"
      ]
     },
     "metadata": {},
     "output_type": "display_data"
    },
    {
     "data": {
      "image/png": "[encoded data removed]",
      "text/latex": [
       "$$\\left ( 0, \\quad 0, \\quad 4 z^{3}\\right )$$"
      ],
      "text/plain": [
       "⎛         3⎞\n",
       "⎝0, 0, 4⋅z ⎠"
      ]
     },
     "metadata": {},
     "output_type": "display_data"
    },
    {
     "data": {
      "text/plain": [
       "'\\nrot F: '"
      ]
     },
     "metadata": {},
     "output_type": "display_data"
    },
    {
     "data": {
      "image/png": "[encoded data removed]",
      "text/latex": [
       "$$6$$"
      ],
      "text/plain": [
       "6"
      ]
     },
     "metadata": {},
     "output_type": "display_data"
    },
    {
     "data": {
      "text/plain": [
       "'div F: '"
      ]
     },
     "metadata": {},
     "output_type": "display_data"
    },
    {
     "data": {
      "image/png": "[encoded data removed]",
      "text/latex": [
       "$$4 z^{3}$$"
      ],
      "text/plain": [
       "   3\n",
       "4⋅z "
      ]
     },
     "metadata": {},
     "output_type": "display_data"
    }
   ],
   "source": [
    "\n",
    "\n",
    "from sympy import *\n",
    "x = Symbol('x')\n",
    "y = Symbol('y')\n",
    "z = Symbol('z')\n",
    "\n",
    "P = -3*y\n",
    "Q = 3*x\n",
    "R = z**4\n",
    "\n",
    "rota = (diff(R, y) - diff(Q,z)), (diff(P, z) - diff(R,x)), (diff(Q, x) - diff(P, y))\n",
    "rot2 = rot = (diff(R, y) - diff(Q,z)) + (diff(P, z) - diff(R,x)) + (diff(Q, x) - diff(P, y))\n",
    "\n",
    "diva = (diff(P, x), diff(Q, y), diff(R, z))\n",
    "div = (diff(P, x) + diff(Q, y) + diff(R, z))\n",
    "display(rota)\n",
    "display(diva)\n",
    "\n",
    "display(\"\\nrot F: \", rot2)\n",
    "display(\"div F: \", div)"
   ]
  },
  {
   "cell_type": "code",
   "execution_count": null,
   "metadata": {},
   "outputs": [],
   "source": [
    "\n"
   ]
  },
  {
   "cell_type": "code",
   "execution_count": null,
   "metadata": {},
   "outputs": [],
   "source": []
  },
  {
   "cell_type": "code",
   "execution_count": null,
   "metadata": {
    "collapsed": true
   },
   "outputs": [],
   "source": [
    "\n",
    "\n"
   ]
  }
 ],
 "metadata": {
  "kernelspec": {
   "display_name": "Python 3",
   "language": "python",
   "name": "python3"
  },
  "language_info": {
   "codemirror_mode": {
    "name": "ipython",
    "version": 3
   },
   "file_extension": ".py",
   "mimetype": "text/x-python",
   "name": "python",
   "nbconvert_exporter": "python",
   "pygments_lexer": "ipython3",
   "version": "3.6.1"
  }
 },
 "nbformat": 4,
 "nbformat_minor": 2
}
