{
 "cells": [
  {
   "cell_type": "code",
   "execution_count": 14,
   "metadata": {
    "collapsed": true
   },
   "outputs": [],
   "source": [
    "import turtle\n",
    "\n",
    "turtle.color(\"black\")\n",
    "turtle.penup()\n",
    "turtle.goto(0, -25)\n",
    "turtle.pendown()\n",
    "turtle.circle(45)\n",
    "             "
   ]
  },
  {
   "cell_type": "code",
   "execution_count": 15,
   "metadata": {
    "collapsed": true
   },
   "outputs": [],
   "source": [
    "turtle.done()"
   ]
  },
  {
   "cell_type": "code",
   "execution_count": 23,
   "metadata": {
    "collapsed": true
   },
   "outputs": [],
   "source": [
    "turtle.write(\"welcome to python\")\n",
    "turtle.forward(100)\n",
    "turtle.right(90)\n",
    "turtle.forward(50)\n",
    "turtle.right(90)\n",
    "turtle.color(\"green\")\n",
    "turtle.forward(1000)\n",
    "turtle.right(45)\n",
    "turtle.forward(80)\n",
    "\n",
    "turtle.done()"
   ]
  },
  {
   "cell_type": "code",
   "execution_count": 46,
   "metadata": {},
   "outputs": [
    {
     "name": "stdout",
     "output_type": "stream",
     "text": [
      "Twinkle, twinkle, little star, \n",
      "\tHow I wonder what you are! \n",
      "\t\tUp above the world so high, \n",
      "\t\tLike a diamond in the sky. \n",
      "Twinkle, twinkle, little star, \n",
      "\tHow I wonder what you are!\n"
     ]
    }
   ],
   "source": [
    "print(\"Twinkle, twinkle, little star, \\n\\tHow I wonder what you are! \\n\\t\\tUp above the world so high, \\n\\t\\tLike a diamond in the sky. \\nTwinkle, twinkle, little star, \\n\\tHow I wonder what you are!\")\n"
   ]
  },
  {
   "cell_type": "code",
   "execution_count": 56,
   "metadata": {},
   "outputs": [
    {
     "name": "stdout",
     "output_type": "stream",
     "text": [
      "Collecting pyreadline\n",
      "  Downloading pyreadline-2.1.zip (109kB)\n",
      "\u001b[K    100% |████████████████████████████████| 112kB 627kB/s ta 0:00:01\n",
      "\u001b[?25hBuilding wheels for collected packages: pyreadline\n",
      "  Running setup.py bdist_wheel for pyreadline ... \u001b[?25ldone\n",
      "\u001b[?25h  Stored in directory: /Users/israelcastilloh/Library/Caches/pip/wheels/9a/c7/45/fd424eb3d7875d7a61221accd593e17c7953ed5ece5ee60be9\n",
      "Successfully built pyreadline\n",
      "Installing collected packages: pyreadline\n",
      "Successfully installed pyreadline-2.1\n",
      "2017-11-02 23:27:22.378699\n",
      "2017-11-02 23:27:22\n"
     ]
    }
   ],
   "source": [
    "!pip install pyreadline\n",
    "import datetime\n",
    "\n",
    "now = datetime.datetime.now()\n",
    "print (now)\n",
    "print (now.strftime(\"%Y-%m-%d %H:%M:%S\"))"
   ]
  },
  {
   "cell_type": "code",
   "execution_count": 68,
   "metadata": {},
   "outputs": [
    {
     "name": "stdout",
     "output_type": "stream",
     "text": [
      "Introduzca las coordenadas de x1, y1 40,100\n",
      "Introduzca las coordenadas de x2, y2 100,500\n"
     ]
    },
    {
     "data": {
      "text/plain": [
       "'404.47'"
      ]
     },
     "execution_count": 68,
     "metadata": {},
     "output_type": "execute_result"
    }
   ],
   "source": [
    "import numpy as np\n",
    "x1, y1 = eval(input(\"Introduzca las coordenadas de x1, y1 \"))\n",
    "x2, y2 = eval(input(\"Introduzca las coordenadas de x2, y2 \"))\n",
    "dist = format(np.sqrt(((x2-x1)**2 + (y2-y1)**2)) , \".2f\")\n",
    "dist"
   ]
  },
  {
   "cell_type": "code",
   "execution_count": 70,
   "metadata": {},
   "outputs": [
    {
     "data": {
      "text/plain": [
       "<function turtle.mainloop>"
      ]
     },
     "execution_count": 70,
     "metadata": {},
     "output_type": "execute_result"
    }
   ],
   "source": [
    "turtle.penup()\n",
    "turtle.goto(x1,y1)\n",
    "turtle.pendown()\n",
    "turtle.write('point 1')\n",
    "turtle.goto(x2,y2)\n",
    "turtle.write('point 2')\n",
    "\n",
    "turtle.penup()\n",
    "turtle.goto((x1+x2)/2, (y1+y2)/2)\n",
    "turtle.write(dist)\n",
    "#turtle.done"
   ]
  },
  {
   "cell_type": "code",
   "execution_count": 35,
   "metadata": {},
   "outputs": [
    {
     "name": "stdout",
     "output_type": "stream",
     "text": [
      "Enter the lenght from the center to a vertex 5.5\n",
      "108.61\n"
     ]
    }
   ],
   "source": [
    "#Area of pentagon with vertex distance\n",
    "import numpy as np\n",
    "import math\n",
    "\n",
    "r = float(input('Enter the lenght from the center to a vertex '))\n",
    "vertex = (2*r)*math.sin(math.pi/5)\n",
    "area = (3*np.sqrt(3) * vertex**2) / 2 \n",
    "print(format(area, '.2f'))\n"
   ]
  },
  {
   "cell_type": "code",
   "execution_count": 28,
   "metadata": {},
   "outputs": [
    {
     "name": "stdout",
     "output_type": "stream",
     "text": [
      "Enter the side 5.5\n",
      "52.04\n"
     ]
    }
   ],
   "source": [
    "#Area of a penthagon with side (s) length \n",
    "import numpy as np\n",
    "import math\n",
    "\n",
    "r = float(input('Enter the side '))\n",
    "area = ( 5 * r**2) / (4 * math.tan(np.pi/5)) \n",
    "print(format(area, '.2f'))\n"
   ]
  },
  {
   "cell_type": "code",
   "execution_count": 34,
   "metadata": {},
   "outputs": [
    {
     "name": "stdout",
     "output_type": "stream",
     "text": [
      "Enter the side 6.5\n",
      "Enter # of sides 5\n",
      "72.69\n"
     ]
    }
   ],
   "source": [
    "#Area of a polygon with n sides and s length side\n",
    "import numpy as np\n",
    "import math\n",
    "\n",
    "s = float(input('Enter the side '))\n",
    "n = float(input('Enter # of sides '))\n",
    "area = ( n * s**2) / (4 * math.tan(math.pi/n)) \n",
    "print(format(area, '.2f'))\n"
   ]
  },
  {
   "cell_type": "code",
   "execution_count": 15,
   "metadata": {},
   "outputs": [
    {
     "name": "stdout",
     "output_type": "stream",
     "text": [
      "exp(x)*cos(y) exp(x)*cos(y)\n",
      "exp(x)*sin(y) exp(x)*sin(y)\n"
     ]
    }
   ],
   "source": [
    "# Determinación de una función potencial\n",
    "\n",
    "from sympy import *\n",
    "x = Symbol('x')\n",
    "y = Symbol('y')\n",
    "\n",
    "f1 = exp(x)*sin(y)\n",
    "f2 = exp(x)*cos(y)\n",
    "\n",
    "print(diff(f1,y,1), diff(f2, x, 1))\n",
    "print(integrate(f1, x), integrate(f2, y))"
   ]
  },
  {
   "cell_type": "code",
   "execution_count": null,
   "metadata": {},
   "outputs": [],
   "source": []
  },
  {
   "cell_type": "code",
   "execution_count": null,
   "metadata": {
    "collapsed": true
   },
   "outputs": [],
   "source": []
  }
 ],
 "metadata": {
  "kernelspec": {
   "display_name": "Python 3",
   "language": "python",
   "name": "python3"
  },
  "language_info": {
   "codemirror_mode": {
    "name": "ipython",
    "version": 3
   },
   "file_extension": ".py",
   "mimetype": "text/x-python",
   "name": "python",
   "nbconvert_exporter": "python",
   "pygments_lexer": "ipython3",
   "version": "3.6.1"
  }
 },
 "nbformat": 4,
 "nbformat_minor": 2
}
